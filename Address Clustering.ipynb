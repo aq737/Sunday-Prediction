{
 "cells": [
  {
   "cell_type": "markdown",
   "metadata": {},
   "source": [
    "#Slot Prediction for Localities\n",
    "The choice of delivery time slots has to balance marketing and  operational considerations  resulting in cost savings for the organization. Identifying specific time slots for each localities when there is higher chance of success is key to success. Also, if there is any distinction can be made between residential and commercial localities"
   ]
  },
  {
   "cell_type": "code",
   "execution_count": 4,
   "metadata": {},
   "outputs": [],
   "source": [
    "#Importing Libraries\n",
    "\n",
    "import pandas as pd\n",
    "import numpy as np\n",
    "import seaborn as sns\n",
    "import matplotlib.pyplot as plt\n",
    "import generic_utils\n",
    "import config\n",
    "import pandas as pd\n"
   ]
  },
  {
   "cell_type": "code",
   "execution_count": 6,
   "metadata": {},
   "outputs": [],
   "source": [
    "#Reading the Locality Data for last 3 months\n",
    "\n",
    "#Date Range - 23rd Oct to 24th Jan 2019\n",
    "\n",
    "timeSlotData= pd.read_csv(\"clustering_data.csv\")\n",
    "\n",
    "\n"
   ]
  },
  {
   "cell_type": "code",
   "execution_count": 9,
   "metadata": {},
   "outputs": [],
   "source": [
    "# Filtering for only the address column \n",
    "\n",
    "addressField = timeSlotData[[\"combined_address\"]]"
   ]
  },
  {
   "cell_type": "code",
   "execution_count": 41,
   "metadata": {},
   "outputs": [],
   "source": [
    "addressField.head()\n",
    "\n",
    "path_to_csv='/data/Projects/Amir/alias_size_1.csv'"
   ]
  },
  {
   "cell_type": "code",
   "execution_count": 147,
   "metadata": {},
   "outputs": [],
   "source": [
    "import config\n",
    "import generic_utils\n",
    "\n",
    "alias_size_1= pd.read_csv('alias_size_1.csv')\n",
    "alias_size_2= pd.read_csv('alias_size_2.csv')\n",
    "alias_size_3= pd.read_csv('alias_size_3.csv')\n",
    "phrase_alias = pd.read_csv(\"phrase_alias\")"
   ]
  },
  {
   "cell_type": "code",
   "execution_count": 139,
   "metadata": {},
   "outputs": [],
   "source": [
    "def replace_alias(address):\n",
    "        \"\"\"Hard coded alias are stored for some commonly occurring incorrect \n",
    "        spellings people wirite, for ex. bldg -> building, rd no -> road \n",
    "        number etc. Given an address, if there are any incorrect spelling \n",
    "        present in the address this function replaces them with their correct \n",
    "        alias.\n",
    "\n",
    "        Higher length incorrect spellings are replaced first and then the \n",
    "        lower length incorrect spellings are replcaed. For example we first \n",
    "        replace length 3 incorrect spellings, then length 2 and then length 1.\n",
    "\n",
    "        :param str address: Given address whose incorrect spellings are to be \n",
    "                replaced\n",
    "\n",
    "        :returns: Refined address with incorrect spellings replaced with \n",
    "                corresponding aliases\n",
    "\n",
    "        \"\"\"\n",
    "        splitted_address = address.split(',')\n",
    "        replaced_address = []\n",
    "        for phrase in splitted_address:\n",
    "            words = phrase.split()\n",
    "            num_word = len(words)\n",
    "            # FIXME: Need to make the algorithm efficient using Trie structure\n",
    "            for j, word in enumerate(words):\n",
    "                size_3_replaced = False\n",
    "                size_2_replaced = False\n",
    "                # If starting from this word length 3 size incorrect spelling\n",
    "                # exist then replace it with correspondig alias, else look\n",
    "                # for length 2 incorrect spelling and then length 1 incorrect\n",
    "                # spelling\n",
    "                if j + 2 < num_word:\n",
    "                    new_word = alias_size_3.get(\n",
    "                        word + \" \" + words[j + 1] + \" \" + words[j + 2])\n",
    "                    if new_word is not None:\n",
    "                        words[j] = new_word\n",
    "                        del words[j + 2]\n",
    "                        del words[j + 1]\n",
    "                        num_word = len(words)\n",
    "                        size_3_replaced = True\n",
    "                if not size_3_replaced:\n",
    "                    if j + 1 < num_word:\n",
    "                        new_word = alias_size_2.get(\n",
    "                            word + \" \" + words[j + 1])\n",
    "                        if new_word is not None:\n",
    "                            words[j] = new_word\n",
    "                            del words[j + 1]\n",
    "                            num_word = len(words)\n",
    "                            size_2_replaced = True\n",
    "                    if not size_2_replaced:\n",
    "                        words[j] = alias_size_1.get(word, word)\n",
    "            replaced_phrase = \" \".join(words)\n",
    "            if replaced_phrase and not replaced_phrase.isspace():\n",
    "                replaced_phrase = \" \".join(replaced_phrase.split())\n",
    "                replaced_address.append(replaced_phrase)\n",
    "        return \",\".join(replaced_address)\n"
   ]
  },
  {
   "cell_type": "code",
   "execution_count": 144,
   "metadata": {},
   "outputs": [],
   "source": [
    "def _clean_at_phrase_level(address):\n",
    "        \"\"\"Clean the address at comma separated phrase level.\n",
    "\n",
    "        :param str address: Address to be cleaned at phrase level.\n",
    "\n",
    "        \"\"\"\n",
    "        splitted_address = address.split(',')\n",
    "        address_array = []\n",
    "        for phrase in splitted_address:\n",
    "            if (phrase and not phrase.isspace()):\n",
    "                phrase = \" \".join(phrase.split())\n",
    "                clean_phrase = phrase_alias.get(phrase, phrase)\n",
    "                numeric_match = re.match(\n",
    "                    r\"^([0-9]+)\\s?(st|nd|rd|th)$\", clean_phrase)\n",
    "                if numeric_match:\n",
    "                    clean_phrase = numeric_match.group(1)\n",
    "                    pattern = (r\"^(([0-9]+|[a-z]{1,2}) floor|\"\n",
    "                            r\"floor( (no|num|number))? ([0-9]+(st|nd|rd|th)?|\"\n",
    "                            r\"[a-z]{1,2}))$\")\n",
    "                    floor_match = re.match(pattern, clean_phrase)\n",
    "                    clean_phrase = '' if floor_match else clean_phrase\n",
    "                if clean_phrase:\n",
    "                    address_array.append(clean_phrase)\n",
    "        seen = set()\n",
    "        seen_add = seen.add\n",
    "        address_array_unique = [x for x in reversed(\n",
    "            address_array) if not (x in seen or seen_add(x))]\n",
    "        address_array_unique = list(reversed(address_array_unique))\n",
    "        return \",\".join(address_array_unique)\n"
   ]
  },
  {
   "cell_type": "code",
   "execution_count": 152,
   "metadata": {},
   "outputs": [],
   "source": [
    "city='Gurugram'\n",
    "state='Haryana'\n",
    "\n",
    "def clean_city_and_state(city, state):\n",
    "        \"\"\"Clean the city and state.\n",
    "\n",
    "        :param str city: City\n",
    "        :param str state: State\n",
    "\n",
    "        :returns: City & State after cleaning\n",
    "\n",
    "        \"\"\"\n",
    "        city_and_state = city + state\n",
    "        if city_and_state.count('/') == 1:\n",
    "            city, state = city_and_state.split('/')\n",
    "        city = clean_address_new(city)\n",
    "        state = clean_address_new(state)\n",
    "        # Many time merchant writes 'in-' before state name. i.e. in-punjab\n",
    "        if state.startswith('in '):\n",
    "            state = state[3:]\n",
    "        state = self.state_abbreviations.get(state, state)\n",
    "        return city, state\n",
    "\n"
   ]
  },
  {
   "cell_type": "code",
   "execution_count": null,
   "metadata": {},
   "outputs": [],
   "source": [
    " def remove_intermediate_city_state_pincode(address_data):\n",
    "        \"\"\"Given the address data, if city/state field is non-empty then \n",
    "        remove the city/state name from in-between the address. City/state \n",
    "        can be appended at the end of address later on whenever needed. This\n",
    "        function removes the pincode from the address.\n",
    "\n",
    "\n",
    "        \"\"\"\n",
    "        address = address_data['address']\n",
    "        city = address_data['city']\n",
    "        state = address_data['state']\n",
    "        pincode = address_data['pincode']\n",
    "        modified_phrases = []\n",
    "        # if pincode is present in both address field and pincode field,\n",
    "        # update with the rightmost one present in address field.\n",
    "        pincode_match = re.findall(r\"\\b([0-9]{6})\\b\", address)\n",
    "        pincode_in_add = pincode_match[-1] if pincode_match else None\n",
    "        pin = pincode_in_add if pincode_in_add else pincode\n",
    "        address_data['pincode'] = pin\n",
    "        all_pincodes_set = set([pincode])\n",
    "        if pincode_match:\n",
    "            all_pincodes_set |= set(pincode_match)\n",
    "        for phrase in address.split(','):\n",
    "            # Keep all phrases of address other than pincode, city and state\n",
    "            # FIXME: Check if using levenshtein distance below can be harmful\n",
    "            # and should be removed OR should it be replaced with fuzzy\n",
    "            # FIXME: chack if combination of city & state (i.e. 'gurgaon\n",
    "            # haryana') should also be removed\n",
    "            if not ((phrase in all_pincodes_set) or\n",
    "                    (city and l_distance(phrase, city) < 2) or\n",
    "                    (state and l_distance(phrase, state) < 2)):\n",
    "                # Note that pincode/city/state are removed only if they\n",
    "                # represent some independent phrase of the address and not\n",
    "                # otherwise.\n",
    "                modified_phrases.append(phrase)\n",
    "        if self.remove_city_state_token_from_address and modified_phrases:\n",
    "            tokens_last_phrase = modified_phrases[-1].split()\n",
    "            if tokens_last_phrase and tokens_last_phrase[-1] in (city, state):\n",
    "                modified_phrases[-1] = ' '.join(tokens_last_phrase[:-1])\n",
    "        address_data['address'] = ','.join(modified_phrases)\n"
   ]
  },
  {
   "cell_type": "code",
   "execution_count": 185,
   "metadata": {},
   "outputs": [],
   "source": [
    "def clean_address_new(address):\n",
    "    address = address.replace(\"/n\", \" \")\n",
    "    # Addresses from some merchants contain noisy words/codes like: &#21,\n",
    "    # &#45 etc.\n",
    "    address = re.sub(r\"&#\\w+(?=\\b)\", \" \", address)\n",
    "    address = address.replace(\"&\", \" and \")\n",
    "    address = address.replace(\";\", \",\")\n",
    "    address = address.replace(\"'\", \"\")\n",
    "    # 'Bandra (West)' is better than 'Bandra(West)'. For such phrases\n",
    "    # add space before (\n",
    "    address = address.replace(\"(\", \" (\")\n",
    "    # Remove all useless characters\n",
    "    address = re.sub(r\"[^A-Za-z0-9(),]\", \" \", address)\n",
    "    # Add space where Capital alphabet is followed by small letter i.e.\n",
    "    # 'RohiniDelhi' -> 'Rohini Delhi'\n",
    "    address = re.sub(r\"(?<=[a-z])(?=[A-Z])\", \" \", address)\n",
    "    address = address.lower() \n",
    "    address = segregate_joint_alphabet_numerics(address)\n",
    "    address = re.sub(\n",
    "        r\"(?<=\\b)(sec|sect)\\s(?=[0-9]+\\b)\", \"sector \", address)\n",
    "    # Remove phrases for any nth floor as floor number doesn't give any\n",
    "    # additional information for geocoding\n",
    "    address = re.sub(r\"(([0-9]+\\s?)|([a-z]+))(st|nd|rd|th)\\sfloor(?=\\b)\", \", \", address)\n",
    "    address = re.sub(r\"(?<=[a-z])\\s+(?=pur\\b)\", \"\", address)\n",
    "    # From phrases like 'ho no 18', 'plot 88' etc retain the numeric part\n",
    "    # and remove rest of the part\n",
    "    pattern = (r\"(?<=\\b)(house|ho|plot|room|shop|khasra|contact|phone|\"\n",
    "               r\"mobile|mob)\\s+((n|no|num|number)\\s+)?(?=[0-9]+)\")\n",
    "    address = re.sub(pattern, \",\", address)\n",
    "    # For handling special cases like 'sector h 7', we do not remove the\n",
    "    # 'h' from the address. If 'sector h no 7', we return 'sector ,7'\n",
    "    # only as output.\n",
    "    address = re.sub(r\"(?<=\\b)h\\s+(n|no|num|number)\\s+(?=[0-9]+)\", \",\", address)\n",
    "    # From phrases like 'flat no b 203', 'flat d 46' etc. remove 'flat',\n",
    "    # 'flat no' etc. keywords\n",
    "    pattern = (r\"(?<=\\b)flat\\s+((no|num|number)\\s+)?\"\n",
    "               r\"(?=([a-z]{1,2}|[0-9]+)\\b)(?!no\\b)\")\n",
    "    address = re.sub(pattern, \",\", address)\n",
    "    # Replace rd to road if there is some alphabet name of road before rd.\n",
    "    # Remplacement doesn't happen in cases like 'head office, RD School'\n",
    "    address = re.sub(r\"(?<=[a-z]\\s)\\s*rd(?=\\b)\", \" road \", address)\n",
    "    address =  align_numeric_part(address)\n",
    "    address =  replace_alias(address)\n",
    "\n",
    "    # Comma before pincode and after pincode\n",
    "    address = re.sub(r\"\\s(?=[0-9]{6}\\b)\", \", \", address)\n",
    "    address = re.sub(r\"(?<=\\b[0-9]{6})\\s\", \", \", address)\n",
    "    # Delete phone numbers\n",
    "    address = re.sub(r\"(?<=\\b)(91\\s)?[0-9]{10,12}(?=\\b)\", \", \", address)\n",
    "    # FIXME: Instead of hardcoding country code of India in regex above,\n",
    "    # make it generic for any country\n",
    "    address = _clean_at_phrase_level(address)\n",
    "    \n",
    "    address = re.sub(r\"(?<=\\b)[0-9]{6}(?=\\b)\", \",\", address)\n",
    "    address = \",\".join([\" \".join(item.split()) for item in address.split(\n",
    "            ',') if (item and not item.isspace())])\n",
    "    \n",
    "    address= re.sub(r\"sector 44\",\"\", address)\n",
    "    address= re.sub(r\"haryana\",\"\", address)\n",
    "    address= re.sub(r\"gurugram\",\"\",address)\n",
    "    address= re.sub(r\"gurgaon\",\"\",address)\n",
    "    address= re.sub(r\"gurgam\",\"\",address)\n",
    "    address= re.sub(r\"gurdgaon\",\"\",address)\n",
    "    address=re.sub(r\",\",\" \",address)\n",
    "    adress= address.strip()\n",
    "    address=re.sub(' +', ' ', address)   \n",
    "    return(address)\n"
   ]
  },
  {
   "cell_type": "code",
   "execution_count": 186,
   "metadata": {},
   "outputs": [
    {
     "name": "stderr",
     "output_type": "stream",
     "text": [
      "/home/ubuntu/.venv/lib/python3.5/site-packages/ipykernel_launcher.py:1: SettingWithCopyWarning: \n",
      "A value is trying to be set on a copy of a slice from a DataFrame.\n",
      "Try using .loc[row_indexer,col_indexer] = value instead\n",
      "\n",
      "See the caveats in the documentation: http://pandas.pydata.org/pandas-docs/stable/indexing.html#indexing-view-versus-copy\n",
      "  \"\"\"Entry point for launching an IPython kernel.\n"
     ]
    }
   ],
   "source": [
    "addressField['Clean_Address'] = addressField['combined_address'].apply(clean_address_new)"
   ]
  },
  {
   "cell_type": "code",
   "execution_count": 209,
   "metadata": {},
   "outputs": [
    {
     "data": {
      "text/plain": [
       "['42', '32', '30']"
      ]
     },
     "execution_count": 209,
     "metadata": {},
     "output_type": "execute_result"
    }
   ],
   "source": [
    "re.findall(r'\\b\\d+\\b', 'he33llo 42 I\\'m a 32 string 30')"
   ]
  },
  {
   "cell_type": "code",
   "execution_count": 213,
   "metadata": {},
   "outputs": [],
   "source": [
    "def extract_numeric_part(address):\n",
    "    numeric_part= [int(s) for s in re.findall(r'\\b\\d+\\b',address)]\n",
    "    return(numeric_part)\n",
    "\n",
    "def remove_numeric_part(address):\n",
    "    address=''.join(i for i in address if not i.isdigit())\n",
    "    return(address)\n",
    "    "
   ]
  },
  {
   "cell_type": "code",
   "execution_count": 214,
   "metadata": {},
   "outputs": [
    {
     "name": "stderr",
     "output_type": "stream",
     "text": [
      "/home/ubuntu/.venv/lib/python3.5/site-packages/ipykernel_launcher.py:1: SettingWithCopyWarning: \n",
      "A value is trying to be set on a copy of a slice from a DataFrame.\n",
      "Try using .loc[row_indexer,col_indexer] = value instead\n",
      "\n",
      "See the caveats in the documentation: http://pandas.pydata.org/pandas-docs/stable/indexing.html#indexing-view-versus-copy\n",
      "  \"\"\"Entry point for launching an IPython kernel.\n",
      "/home/ubuntu/.venv/lib/python3.5/site-packages/ipykernel_launcher.py:2: SettingWithCopyWarning: \n",
      "A value is trying to be set on a copy of a slice from a DataFrame.\n",
      "Try using .loc[row_indexer,col_indexer] = value instead\n",
      "\n",
      "See the caveats in the documentation: http://pandas.pydata.org/pandas-docs/stable/indexing.html#indexing-view-versus-copy\n",
      "  \n"
     ]
    }
   ],
   "source": [
    "addressField['Numeric_Part'] =addressField['Clean_Address'].apply(extract_numeric_part)\n",
    "addressField['Clean_Address'] = addressField['Clean_Address'].apply(remove_numeric_part)"
   ]
  },
  {
   "cell_type": "code",
   "execution_count": 216,
   "metadata": {},
   "outputs": [],
   "source": [
    "#The Numbers and strings part are removed from the addresses\n",
    "#The idea is to assign the \n",
    "\n"
   ]
  },
  {
   "cell_type": "code",
   "execution_count": 188,
   "metadata": {},
   "outputs": [],
   "source": [
    "addressField.to_csv(\"Modified_Address.csv\")"
   ]
  }
 ],
 "metadata": {
  "kernelspec": {
   "display_name": "Python 3",
   "language": "python",
   "name": "python3"
  },
  "language_info": {
   "codemirror_mode": {
    "name": "ipython",
    "version": 3
   },
   "file_extension": ".py",
   "mimetype": "text/x-python",
   "name": "python",
   "nbconvert_exporter": "python",
   "pygments_lexer": "ipython3",
   "version": "3.5.2"
  }
 },
 "nbformat": 4,
 "nbformat_minor": 2
}
